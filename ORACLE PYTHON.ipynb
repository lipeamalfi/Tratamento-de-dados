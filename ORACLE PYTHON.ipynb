{
 "cells": [
  {
   "cell_type": "code",
   "execution_count": null,
   "id": "d7976452",
   "metadata": {
    "scrolled": false
   },
   "outputs": [],
   "source": [
    "import pandas \n",
    "import cx_Oracle"
   ]
  },
  {
   "cell_type": "code",
   "execution_count": null,
   "id": "d249fb5d",
   "metadata": {
    "scrolled": true
   },
   "outputs": [],
   "source": [
    "connection = cx_Oracle.connect(user=\"financeiro\", password=\"marpesia\",\n",
    "                               dsn=\"10.15.30.13/itesp\")\n"
   ]
  },
  {
   "cell_type": "code",
   "execution_count": null,
   "id": "742a5447",
   "metadata": {},
   "outputs": [],
   "source": [
    "query = \"SELECT * FROM sua_tabela\""
   ]
  },
  {
   "cell_type": "code",
   "execution_count": null,
   "id": "26b6d60b",
   "metadata": {},
   "outputs": [],
   "source": [
    "df = pd.read_sql(query, connection)\n"
   ]
  },
  {
   "cell_type": "code",
   "execution_count": null,
   "id": "c8c8161f",
   "metadata": {},
   "outputs": [],
   "source": [
    "connection.close()\n"
   ]
  },
  {
   "cell_type": "code",
   "execution_count": null,
   "id": "bfd19902",
   "metadata": {},
   "outputs": [],
   "source": [
    "csv_file = 'resultado.csv'\n",
    "df.to_csv(csv_file, index=False)\n"
   ]
  },
  {
   "cell_type": "code",
   "execution_count": null,
   "id": "515f3f72",
   "metadata": {},
   "outputs": [],
   "source": []
  }
 ],
 "metadata": {
  "kernelspec": {
   "display_name": "Python 3 (ipykernel)",
   "language": "python",
   "name": "python3"
  },
  "language_info": {
   "codemirror_mode": {
    "name": "ipython",
    "version": 3
   },
   "file_extension": ".py",
   "mimetype": "text/x-python",
   "name": "python",
   "nbconvert_exporter": "python",
   "pygments_lexer": "ipython3",
   "version": "3.11.4"
  }
 },
 "nbformat": 4,
 "nbformat_minor": 5
}

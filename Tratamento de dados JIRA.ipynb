{
 "cells": [
  {
   "cell_type": "markdown",
   "id": "0cff04ee",
   "metadata": {},
   "source": [
    "## TRATAMENTO DE DADOS JIRA "
   ]
  },
  {
   "cell_type": "markdown",
   "id": "4ab7cb39",
   "metadata": {},
   "source": [
    "Versão 1.0"
   ]
  },
  {
   "cell_type": "markdown",
   "id": "9d34ab1e",
   "metadata": {},
   "source": [
    "Autor: Filipe Amalfi"
   ]
  },
  {
   "cell_type": "markdown",
   "id": "e8470fc5",
   "metadata": {},
   "source": [
    "## Importanto as bibliotecas"
   ]
  },
  {
   "cell_type": "code",
   "execution_count": 2,
   "id": "79fd3122",
   "metadata": {},
   "outputs": [],
   "source": [
    "import pandas as pd \n",
    "import os\n",
    "from datetime import datetime\n"
   ]
  },
  {
   "cell_type": "markdown",
   "id": "0851d7f7",
   "metadata": {},
   "source": [
    "## Importação dos arquivos"
   ]
  },
  {
   "cell_type": "code",
   "execution_count": 5,
   "id": "7c95bac4",
   "metadata": {},
   "outputs": [],
   "source": [
    "df = pd.read_csv( 'Jira 02_2024.csv', sep = ',')"
   ]
  },
  {
   "cell_type": "markdown",
   "id": "dd70b742",
   "metadata": {},
   "source": [
    "## Padronizando das colunas"
   ]
  },
  {
   "cell_type": "markdown",
   "id": "26993017",
   "metadata": {},
   "source": [
    "Removendo os prefixos Campo personalizado, Link de item interno e Link de item externo das colunas\n"
   ]
  },
  {
   "cell_type": "code",
   "execution_count": 6,
   "id": "ef299c57",
   "metadata": {},
   "outputs": [],
   "source": [
    "df.columns = df.columns.str.replace('Campo personalizado \\(', '', regex=True)\n",
    "df.columns = df.columns.str.replace('\\)', '', regex=True) \n",
    "df.columns = df.columns.str.replace('Link de item interno \\(', '', regex=True)\n",
    "df.columns = df.columns.str.replace('\\)', '', regex=True)\n",
    "df.columns = df.columns.str.replace('Link de item externo \\(', '', regex=True)\n",
    "df.columns = df.columns.str.replace('\\)', '', regex=True)"
   ]
  },
  {
   "cell_type": "markdown",
   "id": "73599a45",
   "metadata": {},
   "source": [
    "## Tratamento de datas"
   ]
  },
  {
   "cell_type": "markdown",
   "id": "808842c9",
   "metadata": {},
   "source": [
    "Criando a váriavel \"meses\" para usar como padrão para as datas que precisam ser tratadas"
   ]
  },
  {
   "cell_type": "code",
   "execution_count": 7,
   "id": "0363fd34",
   "metadata": {},
   "outputs": [],
   "source": [
    "meses = {\n",
    "    'jan': 'Jan',\n",
    "    'fev': 'Feb',\n",
    "    'mar': 'Mar',\n",
    "    'abr': 'Apr',\n",
    "    'mai': 'May',\n",
    "    'jun': 'Jun',\n",
    "    'jul': 'Jul',\n",
    "    'ago': 'Aug',\n",
    "    'set': 'Sep',\n",
    "    'out': 'Oct',\n",
    "    'nov': 'Nov',\n",
    "    'dez': 'Dec'\n",
    "}"
   ]
  },
  {
   "cell_type": "markdown",
   "id": "c03fa3d7",
   "metadata": {},
   "source": [
    "Substitui os nomes abreviados dos meses pelas versões em inglês nas colunas 'Resolvido' e 'Criado'.\n",
    "Converte as colunas 'Criado' e 'Resolvido' para o formato de data e hora.\n",
    "Extrai o mês da coluna 'Criado' e armazena em 'Ref'.\n",
    "Extrai a hora da coluna 'Criado' e 'Resolvido' e as armazena em 'Hora de criação' e 'Hora de resolução', respectivamente.\n",
    "Converte as colunas 'Criado' e 'Resolvido' para conter apenas a data, removendo informações de hora."
   ]
  },
  {
   "cell_type": "code",
   "execution_count": 8,
   "id": "7b0307b0",
   "metadata": {},
   "outputs": [],
   "source": [
    "df['Resolvido'] = df['Resolvido'].replace(meses, regex=True)\n",
    "df['Criado'] = df['Criado'].replace(meses, regex=True)\n",
    "df['Criado'] = pd.to_datetime(df['Criado'], format='%d/%b/%y %I:%M %p')\n",
    "df['Ref'] = df['Criado'].dt.month\n",
    "df['Hora de criação'] = df['Criado'].dt.time\n",
    "df['Criado'] = df['Criado'].apply(lambda x: x.date())\n",
    "df['Resolvido'] = pd.to_datetime(df['Resolvido'], format='%d/%b/%y %I:%M %p')\n",
    "df['Hora de resolução'] = df['Resolvido'].dt.time\n",
    "df['Resolvido'] = df['Resolvido'].apply(lambda x: x.date())"
   ]
  },
  {
   "cell_type": "markdown",
   "id": "d2d78dd7",
   "metadata": {},
   "source": [
    "Preenche colunas vazias 'Data Prevista de Termino' e 'Data de termino real' com base em outras colunas.\n",
    "Substitui nomes abreviados de meses por suas versões em inglês nas colunas.\n",
    "Converte as colunas para o formato de data e hora apropriado."
   ]
  },
  {
   "cell_type": "code",
   "execution_count": 9,
   "id": "39e174c9",
   "metadata": {},
   "outputs": [],
   "source": [
    "df['Data Prevista de Termino'] = df.apply(lambda row: row['Data prevista de término'] if pd.isna(row['Data Prevista de Término']) else row['Data Prevista de Término'], axis=1)\n",
    "df['Data de termino real'] = df.apply(lambda row: row['Data de término real.1'] if pd.isna(row['Data de término real']) else row['Data de término real'], axis=1)\n",
    "df['Data de termino real'] = df['Data de termino real'].replace(meses, regex=True)\n",
    "df['Data Prevista de Termino'] = df['Data Prevista de Termino'].replace(meses, regex=True)\n",
    "df['Data Prevista de Termino'] = pd.to_datetime(df['Data Prevista de Termino'], format='%d/%b/%y %I:%M %p')\n",
    "df['Data de termino real'] =  pd.to_datetime(df['Data de termino real'], format='%d/%b/%y %I:%M %p')"
   ]
  },
  {
   "cell_type": "markdown",
   "id": "f3ee2c81",
   "metadata": {},
   "source": [
    "A Diferença em dias entre as colunas 'Data Prevista de Termino' e 'Data de termino real' e armazena o resultado na coluna 'Dias Gastos'.\n",
    "\n",
    "Em resumo, ele determina quantos dias se passaram entre a data prevista de término e a data de término real de um evento e registra esse valor na coluna 'Dias Gastos'."
   ]
  },
  {
   "cell_type": "code",
   "execution_count": 10,
   "id": "dc1a17fb",
   "metadata": {},
   "outputs": [],
   "source": [
    "df['Dias Gastos'] = (df['Data Prevista de Termino'] - df['Data de termino real']).dt.days\n"
   ]
  },
  {
   "cell_type": "markdown",
   "id": "7ee833dc",
   "metadata": {},
   "source": [
    "## Dropando das colunas"
   ]
  },
  {
   "cell_type": "markdown",
   "id": "1c650279",
   "metadata": {},
   "source": [
    "Essas colunas específicas serão excluídas do DataFrame, resultando em um DataFrame com apenas as colunas desejadas."
   ]
  },
  {
   "cell_type": "code",
   "execution_count": 11,
   "id": "c59536da",
   "metadata": {},
   "outputs": [],
   "source": [
    "df = df.drop(columns = ['Data Prevista de Término','Data de término real', 'Data de término real.1', 'Data prevista de término'])"
   ]
  },
  {
   "cell_type": "markdown",
   "id": "cc43f084",
   "metadata": {},
   "source": [
    "## Exportando o arquivo em CSV"
   ]
  },
  {
   "cell_type": "code",
   "execution_count": 12,
   "id": "d48038da",
   "metadata": {},
   "outputs": [],
   "source": [
    "df.to_csv('Jira_202402_tratado.csv',index = False)"
   ]
  }
 ],
 "metadata": {
  "kernelspec": {
   "display_name": "Python 3 (ipykernel)",
   "language": "python",
   "name": "python3"
  },
  "language_info": {
   "codemirror_mode": {
    "name": "ipython",
    "version": 3
   },
   "file_extension": ".py",
   "mimetype": "text/x-python",
   "name": "python",
   "nbconvert_exporter": "python",
   "pygments_lexer": "ipython3",
   "version": "3.11.4"
  }
 },
 "nbformat": 4,
 "nbformat_minor": 5
}
